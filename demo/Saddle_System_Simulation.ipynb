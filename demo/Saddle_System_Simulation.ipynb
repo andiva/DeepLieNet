{
 "cells": [
  {
   "cell_type": "markdown",
   "metadata": {},
   "source": [
    "In this example we will build a matrix Lie map for a simple and well known Lotka-Volterra model. We also will compare simulation results with traditional numerical integration."
   ]
  },
  {
   "cell_type": "code",
   "execution_count": 1,
   "metadata": {},
   "outputs": [
    {
     "name": "stderr",
     "output_type": "stream",
     "text": [
      "Using TensorFlow backend.\n"
     ]
    }
   ],
   "source": [
    "import numpy as np\n",
    "import sympy as sp\n",
    "from sympy import Symbol, expand\n",
    "\n",
    "import matplotlib.pyplot as plt\n",
    "import keras\n",
    "from keras.models import Sequential\n",
    "from keras.layers import Dense, LSTM\n",
    "import sys\n",
    "sys.path.insert(0,'..')\n",
    "\n",
    "from core.Lie import LieLayer\n",
    "from core.Lie_map_builder import LieMapBuilder"
   ]
  },
  {
   "cell_type": "markdown",
   "metadata": {},
   "source": [
    "Let's define the saddle system"
   ]
  },
  {
   "cell_type": "code",
   "execution_count": 3,
   "metadata": {},
   "outputs": [
    {
     "name": "stdout",
     "output_type": "stream",
     "text": [
      "[x y]\n",
      "[0.5*x + 0.5*y, 1.5*x - 0.5*y]\n",
      "[[0.]\n",
      " [0.]]\n",
      "[[ 0.5  0.5]\n",
      " [ 1.5 -0.5]]\n",
      "[[0. 0. 0.]\n",
      " [0. 0. 0.]]\n",
      "[[0. 0. 0. 0.]\n",
      " [0. 0. 0. 0.]]\n"
     ]
    }
   ],
   "source": [
    "x = Symbol('x')\n",
    "y = Symbol('y')\n",
    "state = np.array([x,y])\n",
    "\n",
    "p=0\n",
    "q=-1\n",
    "A = 0.5\n",
    "B = 0.5\n",
    "\n",
    "D = p-A\n",
    "C = (A*D - q)/B\n",
    "\n",
    "right_hand_side = [A*x+B*y, C*x+D*y]\n",
    "\n",
    "order = 3\n",
    "map_builder = LieMapBuilder(state, right_hand_side, order=order)\n",
    "for P in map_builder.P:\n",
    "    print P"
   ]
  },
  {
   "cell_type": "markdown",
   "metadata": {},
   "source": [
    "and build Lie:"
   ]
  },
  {
   "cell_type": "code",
   "execution_count": 4,
   "metadata": {},
   "outputs": [
    {
     "name": "stdout",
     "output_type": "stream",
     "text": [
      "0 10\n",
      "1 10\n",
      "2 10\n",
      "3 10\n",
      "4 10\n",
      "5 10\n",
      "6 10\n",
      "7 10\n",
      "8 10\n",
      "9 10\n",
      "[[0.]\n",
      " [0.]]\n",
      "[[1.00504925 0.00500008]\n",
      " [0.01500024 0.99504909]]\n",
      "[[0. 0. 0.]\n",
      " [0. 0. 0.]]\n",
      "[[0. 0. 0. 0.]\n",
      " [0. 0. 0. 0.]]\n"
     ]
    }
   ],
   "source": [
    "R = map_builder.getInitR()\n",
    "h = 0.001\n",
    "N = 10\n",
    "R = map_builder.propogate(h, N)\n",
    "\n",
    "for Rk in R:\n",
    "    print Rk"
   ]
  },
  {
   "cell_type": "markdown",
   "metadata": {},
   "source": [
    "The map R now corresponds to dynamics of model in time period h*N. Then let's load this matrices into polynomial neural network:"
   ]
  },
  {
   "cell_type": "code",
   "execution_count": 5,
   "metadata": {},
   "outputs": [
    {
     "name": "stderr",
     "output_type": "stream",
     "text": [
      "/usr/local/lib/python2.7/dist-packages/keras/engine/topology.py:622: UserWarning: Class `core.Lie.LieLayer` defines `get_output_shape_for` but does not override `compute_output_shape`. If this is a Keras 1 layer, please implement `compute_output_shape` to support Keras 2.\n",
      "  output_shape = self.compute_output_shape(input_shape)\n"
     ]
    }
   ],
   "source": [
    "W = map_builder.convert_weights_to_full_nn(R)\n",
    "dim = len(state)\n",
    "\n",
    "map = LieLayer(output_dim = dim, order = order, input_shape = (dim,))\n",
    "model = Sequential()\n",
    "model.add(map)\n",
    "map.set_weights(W)"
   ]
  },
  {
   "cell_type": "markdown",
   "metadata": {
    "collapsed": true
   },
   "source": [
    "Now we can simply simulate our model via polynomial neural network prediction, as well as compare result with Runge-Kutta integration."
   ]
  },
  {
   "cell_type": "code",
   "execution_count": 30,
   "metadata": {},
   "outputs": [
    {
     "name": "stdout",
     "output_type": "stream",
     "text": [
      "start simulation\n",
      "elapsed time: 0.0993149280548 sec\n"
     ]
    },
    {
     "data": {
      "image/png": "[encoded data removed]",
      "text/plain": [
       "<matplotlib.figure.Figure at 0x7fca04f44210>"
      ]
     },
     "metadata": {},
     "output_type": "display_data"
    }
   ],
   "source": [
    "X0 = np.array([[-1, 2],\n",
    "               [-0.5, 2.5],\n",
    "               [0.5, -2.5],\n",
    "               [1, -2],],\n",
    "               dtype=float).reshape((-1, dim))\n",
    "X = []\n",
    "X.append(X0)\n",
    "import time\n",
    "print('start simulation')\n",
    "start = time.time()\n",
    "epoch_n = 200\n",
    "for i in xrange(epoch_n):\n",
    "    X.append(model.predict(X[-1])) \n",
    "print('elapsed time: %s sec'% (time.time()-start))\n",
    "\n",
    "X = np.array(X)\n",
    "plt.plot(X[::10,:,0], X[::10,:,1], 'b.', markersize=3)\n",
    "plt.grid()\n",
    "    \n",
    "    \n",
    "    \n",
    "# compare to ode solver\n",
    "from scipy.integrate import solve_ivp\n",
    "\n",
    "def lv_system(t, state):\n",
    "    x = state[0]\n",
    "    y = state[1]\n",
    "    return np.array([A*x+B*y, C*x+D*y])\n",
    "    \n",
    "t = h*N*epoch_n\n",
    "for state0 in X0:\n",
    "    X = solve_ivp(lv_system, [0, t], state0, max_step=0.1)\n",
    "    plt.plot(X.y[0, :], X.y[1, :], 'r-', alpha = 0.4)\n",
    "    \n",
    "plt.show()"
   ]
  }
 ],
 "metadata": {
  "kernelspec": {
   "display_name": "Python 2",
   "language": "python",
   "name": "python2"
  },
  "language_info": {
   "codemirror_mode": {
    "name": "ipython",
    "version": 2
   },
   "file_extension": ".py",
   "mimetype": "text/x-python",
   "name": "python",
   "nbconvert_exporter": "python",
   "pygments_lexer": "ipython2",
   "version": "2.7.12"
  }
 },
 "nbformat": 4,
 "nbformat_minor": 1
}
