{
 "cells": [
  {
   "cell_type": "code",
   "execution_count": 2,
   "metadata": {},
   "outputs": [
    {
     "name": "stderr",
     "output_type": "stream",
     "text": [
      "Using TensorFlow backend.\n"
     ]
    }
   ],
   "source": [
    "import numpy as np\n",
    "import matplotlib.pyplot as plt\n",
    "import keras\n",
    "from keras import backend as K\n",
    "from keras.models import Sequential\n",
    "from keras.layers import Dense, LSTM\n",
    "\n",
    "from utils import load_Lie_weights\n",
    "import sys\n",
    "sys.path.insert(0,'..')\n",
    "\n",
    "from core.Lie import LieLayer"
   ]
  },
  {
   "cell_type": "markdown",
   "metadata": {},
   "source": [
    "Load weight of Lie transform:"
   ]
  },
  {
   "cell_type": "code",
   "execution_count": 3,
   "metadata": {},
   "outputs": [
    {
     "name": "stdout",
     "output_type": "stream",
     "text": [
      "('load weights: ', 'data/bath_bombs_005.txt')\n",
      "('load matrix', 0)\n",
      "start converting\n",
      "(1,)\n",
      "start reduction\n",
      "end reduction\n",
      "start kron\n",
      "start kron\n",
      "('load matrix', 1)\n",
      "start converting\n",
      "(12,)\n",
      "start reduction\n",
      "end reduction\n",
      "start kron\n",
      "start kron\n",
      "('load matrix', 2)\n",
      "start converting\n",
      "(144,)\n",
      "start reduction\n",
      "end reduction\n",
      "start kron\n",
      "start kron\n",
      "('load matrix', 3)\n",
      "start converting\n",
      "(1728,)\n",
      "start reduction\n",
      "end reduction\n",
      "start kron\n",
      "start kron\n",
      "('load matrix', 4)\n"
     ]
    }
   ],
   "source": [
    "state_dim = 12\n",
    "W = load_Lie_weights('data/bath_bombs_005.txt', dim=state_dim)"
   ]
  },
  {
   "cell_type": "code",
   "execution_count": 4,
   "metadata": {},
   "outputs": [
    {
     "name": "stdout",
     "output_type": "stream",
     "text": [
      "('total weight count:', 22620)\n",
      "('non-zero weight count:', 199)\n"
     ]
    },
    {
     "ename": "TypeError",
     "evalue": "hist() takes at least 1 argument (0 given)",
     "output_type": "error",
     "traceback": [
      "\u001b[0;31m---------------------------------------------------------------------------\u001b[0m",
      "\u001b[0;31mTypeError\u001b[0m                                 Traceback (most recent call last)",
      "\u001b[0;32m<ipython-input-4-0203aa333908>\u001b[0m in \u001b[0;36m<module>\u001b[0;34m()\u001b[0m\n\u001b[1;32m      8\u001b[0m \u001b[0;32mprint\u001b[0m\u001b[0;34m(\u001b[0m\u001b[0;34m'non-zero weight count:'\u001b[0m\u001b[0;34m,\u001b[0m\u001b[0mnon_zero_sum\u001b[0m\u001b[0;34m)\u001b[0m\u001b[0;34m\u001b[0m\u001b[0m\n\u001b[1;32m      9\u001b[0m \u001b[0;34m\u001b[0m\u001b[0m\n\u001b[0;32m---> 10\u001b[0;31m \u001b[0mplt\u001b[0m\u001b[0;34m.\u001b[0m\u001b[0mhist\u001b[0m\u001b[0;34m(\u001b[0m\u001b[0;34m)\u001b[0m\u001b[0;34m\u001b[0m\u001b[0m\n\u001b[0m",
      "\u001b[0;31mTypeError\u001b[0m: hist() takes at least 1 argument (0 given)"
     ]
    }
   ],
   "source": [
    "non_zero_sum = 0\n",
    "total = 0\n",
    "weights = []\n",
    "for Wi in W:\n",
    "    total+=Wi.shape[0]*Wi.shape[1]\n",
    "    non_zero_sum += (Wi!=0).sum()\n",
    "print('total weight count:',total)\n",
    "print('non-zero weight count:',non_zero_sum)\n",
    "\n",
    "plt.hist()"
   ]
  },
  {
   "cell_type": "markdown",
   "metadata": {},
   "source": [
    "Build a Lie transformed--based neural network"
   ]
  },
  {
   "cell_type": "code",
   "execution_count": 21,
   "metadata": {},
   "outputs": [],
   "source": [
    "# user-defind loss function\n",
    "def custom_mse(yTrue,yPred):\n",
    "    weights = np.zeros(state_dim)\n",
    "    weights[10] = 1\n",
    "    return K.mean(weights*K.square(yTrue-yPred))\n",
    "\n",
    "\n",
    "# Lie transform based neural network\n",
    "lie_map = LieLayer(output_dim = state_dim, input_shape = (state_dim,), order = 3)\n",
    "model = Sequential()\n",
    "for i in range(200):\n",
    "    model.add(lie_map)\n",
    "opt = keras.optimizers.Adam(lr=0.0002, beta_1=0.99,\n",
    "                            beta_2=0.99999, epsilon=1e-1, decay=0.0)\n",
    "model.compile(loss=custom_mse, optimizer=opt)\n",
    "\n",
    "# load pre-fitted weights\n",
    "lie_map.set_weights(W)"
   ]
  },
  {
   "cell_type": "code",
   "execution_count": 22,
   "metadata": {},
   "outputs": [
    {
     "name": "stdout",
     "output_type": "stream",
     "text": [
      "(10, 12)\n"
     ]
    }
   ],
   "source": [
    "# bath bomb concentrations: data set\n",
    "X0 = np.loadtxt('data/bath_bombs_concentrations.txt', delimiter=',')\n",
    "print(X0.shape)"
   ]
  },
  {
   "cell_type": "markdown",
   "metadata": {},
   "source": [
    "Calculate stability of bath bomb product (ideally should be equal to ones):"
   ]
  },
  {
   "cell_type": "code",
   "execution_count": 23,
   "metadata": {},
   "outputs": [
    {
     "data": {
      "text/plain": [
       "array([0.9240657 , 1.3650838 , 1.3204026 , 0.07104913, 1.0523348 ,\n",
       "       1.2675126 , 1.409016  , 0.9126697 , 1.4060024 , 0.9584267 ],\n",
       "      dtype=float32)"
      ]
     },
     "execution_count": 23,
     "metadata": {},
     "output_type": "execute_result"
    }
   ],
   "source": [
    "X = model.predict(X0)\n",
    "X[:, -2]"
   ]
  },
  {
   "cell_type": "markdown",
   "metadata": {},
   "source": [
    "Remove SLES from components (modified input):"
   ]
  },
  {
   "cell_type": "code",
   "execution_count": 24,
   "metadata": {},
   "outputs": [
    {
     "data": {
      "text/plain": [
       "array([0.9339177 , 0.9439575 , 0.9300925 , 0.9993514 , 0.9141857 ,\n",
       "       0.9431441 , 0.9437397 , 0.96449965, 0.9438261 , 0.9477873 ],\n",
       "      dtype=float32)"
      ]
     },
     "execution_count": 24,
     "metadata": {},
     "output_type": "execute_result"
    }
   ],
   "source": [
    "X0_bath_fizzies = X0.copy()\n",
    "X0_bath_fizzies[:, [4, 7]] = 0 # remove SLES\n",
    "\n",
    "X_bf = model.predict(X0_bath_fizzies)\n",
    "(X_bf/(X+1e-10))[:, -2] # compare stability"
   ]
  },
  {
   "cell_type": "markdown",
   "metadata": {},
   "source": [
    "One have to change concentration of water to remain stability of the product at the same level:"
   ]
  },
  {
   "cell_type": "code",
   "execution_count": 1,
   "metadata": {},
   "outputs": [
    {
     "ename": "NameError",
     "evalue": "name 'np' is not defined",
     "output_type": "error",
     "traceback": [
      "\u001b[0;31m---------------------------------------------------------------------------\u001b[0m",
      "\u001b[0;31mNameError\u001b[0m                                 Traceback (most recent call last)",
      "\u001b[0;32m<ipython-input-1-15574c4f58cd>\u001b[0m in \u001b[0;36m<module>\u001b[0;34m()\u001b[0m\n\u001b[0;32m----> 1\u001b[0;31m \u001b[0mwater\u001b[0m \u001b[0;34m=\u001b[0m \u001b[0mnp\u001b[0m\u001b[0;34m.\u001b[0m\u001b[0marray\u001b[0m\u001b[0;34m(\u001b[0m\u001b[0;34m[\u001b[0m\u001b[0;36m0.64\u001b[0m\u001b[0;34m,\u001b[0m \u001b[0;36m0.84\u001b[0m\u001b[0;34m,\u001b[0m \u001b[0;36m0.88\u001b[0m\u001b[0;34m,\u001b[0m \u001b[0;36m0.1\u001b[0m \u001b[0;34m,\u001b[0m \u001b[0;36m1.14\u001b[0m\u001b[0;34m,\u001b[0m \u001b[0;36m0.76\u001b[0m\u001b[0;34m,\u001b[0m \u001b[0;36m0.82\u001b[0m\u001b[0;34m,\u001b[0m \u001b[0;36m0.36\u001b[0m\u001b[0;34m,\u001b[0m \u001b[0;36m0.82\u001b[0m\u001b[0;34m,\u001b[0m \u001b[0;36m0.5\u001b[0m \u001b[0;34m]\u001b[0m\u001b[0;34m)\u001b[0m\u001b[0;34m\u001b[0m\u001b[0m\n\u001b[0m\u001b[1;32m      2\u001b[0m \u001b[0mX0_bath_fizzies\u001b[0m\u001b[0;34m[\u001b[0m\u001b[0;34m:\u001b[0m\u001b[0;34m,\u001b[0m \u001b[0;36m6\u001b[0m\u001b[0;34m]\u001b[0m \u001b[0;34m=\u001b[0m \u001b[0mwater\u001b[0m\u001b[0;34m;\u001b[0m\u001b[0;34m\u001b[0m\u001b[0m\n\u001b[1;32m      3\u001b[0m \u001b[0mX0_bath_fizzies\u001b[0m\u001b[0;34m[\u001b[0m\u001b[0;34m:\u001b[0m\u001b[0;34m,\u001b[0m\u001b[0;34m-\u001b[0m\u001b[0;36m1\u001b[0m\u001b[0;34m]\u001b[0m \u001b[0;34m=\u001b[0m \u001b[0mwater\u001b[0m\u001b[0;34m/\u001b[0m\u001b[0;36m10\u001b[0m\u001b[0;34m;\u001b[0m\u001b[0;34m\u001b[0m\u001b[0m\n\u001b[1;32m      4\u001b[0m \u001b[0;34m\u001b[0m\u001b[0m\n\u001b[1;32m      5\u001b[0m \u001b[0mX_bf\u001b[0m \u001b[0;34m=\u001b[0m \u001b[0mmodel\u001b[0m\u001b[0;34m.\u001b[0m\u001b[0mpredict\u001b[0m\u001b[0;34m(\u001b[0m\u001b[0mX0_bath_fizzies\u001b[0m\u001b[0;34m)\u001b[0m\u001b[0;34m\u001b[0m\u001b[0m\n",
      "\u001b[0;31mNameError\u001b[0m: name 'np' is not defined"
     ]
    }
   ],
   "source": [
    "water = np.array([0.64, 0.84, 0.88, 0.1 , 1.14, 0.76, 0.82, 0.36, 0.82, 0.5 ])\n",
    "X0_bath_fizzies[:, 6] = water;\n",
    "X0_bath_fizzies[:,-1] = water/10;\n",
    "\n",
    "X_bf = model.predict(X0_bath_fizzies)\n",
    "(X_bf/(X+1e-10))[:, -2]"
   ]
  },
  {
   "cell_type": "markdown",
   "metadata": {},
   "source": [
    "To fit model a standart interface is available"
   ]
  },
  {
   "cell_type": "code",
   "execution_count": 8,
   "metadata": {},
   "outputs": [
    {
     "name": "stdout",
     "output_type": "stream",
     "text": [
      "Epoch 1/10\n",
      "10/10 [==============================] - 3s 329ms/step - loss: 0.0127\n",
      "Epoch 2/10\n",
      "10/10 [==============================] - 0s 8ms/step - loss: 0.0530\n",
      "Epoch 3/10\n",
      "10/10 [==============================] - 0s 8ms/step - loss: 0.0081\n",
      "Epoch 4/10\n",
      "10/10 [==============================] - 0s 9ms/step - loss: 0.0135\n",
      "Epoch 5/10\n",
      "10/10 [==============================] - 0s 8ms/step - loss: 0.0138\n",
      "Epoch 6/10\n",
      "10/10 [==============================] - 0s 8ms/step - loss: 0.0077\n",
      "Epoch 7/10\n",
      "10/10 [==============================] - 0s 9ms/step - loss: 0.0045\n",
      "Epoch 8/10\n",
      "10/10 [==============================] - 0s 8ms/step - loss: 0.0038\n",
      "Epoch 9/10\n",
      "10/10 [==============================] - 0s 8ms/step - loss: 0.0041\n",
      "Epoch 10/10\n",
      "10/10 [==============================] - 0s 9ms/step - loss: 0.0047\n"
     ]
    }
   ],
   "source": [
    "X1 = X0.copy()\n",
    "X1[:, [4,6,7]] = 0\n",
    "X1[:, 10] = 1\n",
    "model.fit(X0, X1, nb_epoch=3, verbose=1)"
   ]
  }
 ],
 "metadata": {
  "kernelspec": {
   "display_name": "Python 2",
   "language": "python",
   "name": "python2"
  },
  "language_info": {
   "codemirror_mode": {
    "name": "ipython",
    "version": 2
   },
   "file_extension": ".py",
   "mimetype": "text/x-python",
   "name": "python",
   "nbconvert_exporter": "python",
   "pygments_lexer": "ipython2",
   "version": "2.7.12"
  }
 },
 "nbformat": 4,
 "nbformat_minor": 2
}
