{
 "cells": [
  {
   "cell_type": "markdown",
   "metadata": {},
   "source": [
    "In this example we will build a matrix Lie map for a simple and well known Lotka-Volterra model. We also will compare simulation results with traditional numerical integration."
   ]
  },
  {
   "cell_type": "code",
   "execution_count": 2,
   "metadata": {
    "collapsed": false
   },
   "outputs": [
    {
     "name": "stderr",
     "output_type": "stream",
     "text": [
      "Using TensorFlow backend.\n"
     ]
    }
   ],
   "source": [
    "import numpy as np\n",
    "import sympy as sp\n",
    "from sympy import Symbol, expand\n",
    "\n",
    "import matplotlib.pyplot as plt\n",
    "import keras\n",
    "from keras.models import Sequential\n",
    "from keras.layers import Dense, LSTM\n",
    "import sys\n",
    "sys.path.insert(0,'..')\n",
    "\n",
    "from core.Lie import LieLayer\n",
    "from core.Lie_map_builder import LieMapBuilder"
   ]
  },
  {
   "cell_type": "markdown",
   "metadata": {},
   "source": [
    "Let's define the system of equations x' = -y - x*y, y' = x + x*y"
   ]
  },
  {
   "cell_type": "code",
   "execution_count": 3,
   "metadata": {
    "collapsed": false
   },
   "outputs": [
    {
     "name": "stdout",
     "output_type": "stream",
     "text": [
      "[x y]\n",
      "[-x*y - y, x*y + x]\n",
      "[[ 0.]\n",
      " [ 0.]]\n",
      "[[ 0. -1.]\n",
      " [ 1.  0.]]\n",
      "[[ 0. -1.  0.]\n",
      " [ 0.  1.  0.]]\n",
      "[[ 0.  0.  0.  0.]\n",
      " [ 0.  0.  0.  0.]]\n"
     ]
    }
   ],
   "source": [
    "x = Symbol('x')\n",
    "y = Symbol('y')\n",
    "state = np.array([x,y])\n",
    "\n",
    "right_hand_side = [ -y-x*y, x+x*y]\n",
    "\n",
    "order = 3\n",
    "map_builder = LieMapBuilder(state, right_hand_side, order=order)\n",
    "for P in map_builder.P:\n",
    "    print P"
   ]
  },
  {
   "cell_type": "markdown",
   "metadata": {},
   "source": [
    "and build Lie:"
   ]
  },
  {
   "cell_type": "code",
   "execution_count": 4,
   "metadata": {
    "collapsed": false
   },
   "outputs": [
    {
     "name": "stdout",
     "output_type": "stream",
     "text": [
      "0 10\n",
      "1 10\n",
      "2 10\n",
      "3 10\n",
      "4 10\n",
      "5 10\n",
      "6 10\n",
      "7 10\n",
      "8 10\n",
      "9 10\n",
      "[[ 0.]\n",
      " [ 0.]]\n",
      "[[ 0.99508712 -0.09984132]\n",
      " [ 0.09984132  0.99508712]]\n",
      "[[-0.00505568 -0.10409825  0.00505568]\n",
      " [ 0.00473891  0.09430322 -0.00473891]]\n",
      "[[-0.00014549 -0.00435891  0.00566561 -0.00017716]\n",
      " [ 0.00013854  0.00407441 -0.00531982  0.00016902]]\n"
     ]
    }
   ],
   "source": [
    "R = map_builder.getInitR()\n",
    "h = 0.01\n",
    "N = 10\n",
    "R = map_builder.propogate(h, N)\n",
    "\n",
    "for Rk in R:\n",
    "    print Rk"
   ]
  },
  {
   "cell_type": "markdown",
   "metadata": {},
   "source": [
    "The map R now corresponds to dynamics of model in time period h*N. Then let's load this matrices into polynomial neural network:"
   ]
  },
  {
   "cell_type": "code",
   "execution_count": 9,
   "metadata": {
    "collapsed": false
   },
   "outputs": [],
   "source": [
    "W = map_builder.convert_weights_to_full_nn(R)\n",
    "dim = len(state)\n",
    "\n",
    "map = LieLayer(output_dim = dim, order = order, input_shape = (dim,))\n",
    "model = Sequential()\n",
    "model.add(map)\n",
    "map.set_weights(W)"
   ]
  },
  {
   "cell_type": "markdown",
   "metadata": {
    "collapsed": true
   },
   "source": [
    "Now we can simply simulate our model via polynomial neural network prediction, as well as compare result with Runge-Kutta integration."
   ]
  },
  {
   "cell_type": "code",
   "execution_count": 10,
   "metadata": {
    "collapsed": false
   },
   "outputs": [
    {
     "name": "stdout",
     "output_type": "stream",
     "text": [
      "start simulation\n",
      "elapsed time: 0.0457899570465 sec\n"
     ]
    },
    {
     "data": {
      "image/png": "[encoded data removed]",
      "text/plain": [
       "<matplotlib.figure.Figure at 0x7f3c7831ad10>"
      ]
     },
     "metadata": {},
     "output_type": "display_data"
    }
   ],
   "source": [
    "X0 = np.array([[0, 0.05],\n",
    "               [0, 0.15],\n",
    "               [0, 0.3]],\n",
    "               dtype=float).reshape((-1, dim))\n",
    "\n",
    "X = []\n",
    "X.append(X0)\n",
    "import time\n",
    "print('start simulation')\n",
    "start = time.time()\n",
    "epoch_n = 70\n",
    "for i in xrange(epoch_n):\n",
    "    X.append(model.predict(X[-1])) \n",
    "print('elapsed time: %s sec'% (time.time()-start))\n",
    "\n",
    "X = np.array(X)\n",
    "\n",
    "plt.plot(X[:,:,0], X[:,:,1], 'b.', markersize=3)\n",
    "plt.grid()\n",
    "    \n",
    "    \n",
    "    \n",
    "# compare to ode solver\n",
    "from scipy.integrate import solve_ivp\n",
    "\n",
    "def lv_system(t, state):\n",
    "    x = state[0]\n",
    "    y = state[1]\n",
    "    return np.array([-y-x*y, x+x*y])\n",
    "    \n",
    "t = h*N*epoch_n\n",
    "for state0 in X0:\n",
    "    X = solve_ivp(lv_system, [0, t], state0, max_step=0.1)\n",
    "    plt.plot(X.y[0, :], X.y[1, :], 'r-', alpha = 0.4)\n",
    "    \n",
    "plt.show()"
   ]
  }
 ],
 "metadata": {
  "kernelspec": {
   "display_name": "Python 2",
   "language": "python",
   "name": "python2"
  },
  "language_info": {
   "codemirror_mode": {
    "name": "ipython",
    "version": 2
   },
   "file_extension": ".py",
   "mimetype": "text/x-python",
   "name": "python",
   "nbconvert_exporter": "python",
   "pygments_lexer": "ipython2",
   "version": "2.7.12"
  }
 },
 "nbformat": 4,
 "nbformat_minor": 1
}
